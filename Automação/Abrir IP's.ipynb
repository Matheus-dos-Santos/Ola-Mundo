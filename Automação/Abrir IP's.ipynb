{
 "cells": [
  {
   "cell_type": "markdown",
   "id": "639b6c11",
   "metadata": {},
   "source": [
    "# Instalando PyautoGui"
   ]
  },
  {
   "cell_type": "code",
   "execution_count": null,
   "id": "c851f9fe",
   "metadata": {},
   "outputs": [],
   "source": [
    "!pip install pyautogui"
   ]
  },
  {
   "cell_type": "code",
   "execution_count": null,
   "id": "0d9dd5bb",
   "metadata": {},
   "outputs": [],
   "source": [
    "import pyautogui\n",
    "import time\n",
    "\n",
    "pyautogui.PAUSE = 2\n",
    "\n",
    "ips =['192.168.3.49', '192.168.3.55', '192.168.3.31', '192.168.3.54', '192.168.3.40', '192.168.3.45', '192.168.3.37', \n",
    "      '192.168.3.44', '192.168.3.43', '192.168.3.35', '192.168.3.53', '192.168.3.48', '192.168.3.42', '192.168.3.30',\n",
    "      '192.168.3.41', '192.168.3.36', '192.168.3.50', '192.168.3.39', '192.168.3.46', '192.168.3.47', '192.168.3.29',\n",
    "      '192.168.3.34', '192.168.3.33', '192.168.3.64', '192.168.3.62', '192.168.3.32', '192.168.3.27', '192.168.3.52',\n",
    "      '192.168.3.56', '192.168.3.26', '192.168.3.51', '192.168.3.61', '192.168.3.38', '192.168.3.158']\n",
    "\n",
    "pyautogui.alert(\"O código será iniciado em breve. Aguarde alguns segundos\")\n",
    "time.sleep(5)\n",
    "\n",
    "for i in ips:\n",
    "    pyautogui.hotkey('ctrl', 't')\n",
    "    pyautogui.write(i) #Escreve o IP\n",
    "    pyautogui.hotkey('enter') # Acessa o IP\n",
    "    time.sleep(2.5)\n",
    "    pyautogui.moveTo(x= 800, y= 300)\n",
    "    time.sleep(2)\n",
    "    pyautogui.scroll(-100)\n",
    "    time.sleep(2)\n",
    "pyautogui.alert('O código foi executado com sucesso. PC liberado.')"
   ]
  }
 ],
 "metadata": {
  "kernelspec": {
   "display_name": "Python 3 (ipykernel)",
   "language": "python",
   "name": "python3"
  },
  "language_info": {
   "codemirror_mode": {
    "name": "ipython",
    "version": 3
   },
   "file_extension": ".py",
   "mimetype": "text/x-python",
   "name": "python",
   "nbconvert_exporter": "python",
   "pygments_lexer": "ipython3",
   "version": "3.9.12"
  }
 },
 "nbformat": 4,
 "nbformat_minor": 5
}
